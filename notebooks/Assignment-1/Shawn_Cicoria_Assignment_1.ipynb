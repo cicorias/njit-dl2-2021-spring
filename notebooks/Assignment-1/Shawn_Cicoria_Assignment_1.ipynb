{
  "nbformat": 4,
  "nbformat_minor": 0,
  "metadata": {
    "colab": {
      "name": "Shawn-Cicoria-Assignment-1.ipynb",
      "provenance": [],
      "collapsed_sections": []
    },
    "kernelspec": {
      "display_name": "Python 3",
      "language": "python",
      "name": "python3"
    },
    "language_info": {
      "codemirror_mode": {
        "name": "ipython",
        "version": 3
      },
      "file_extension": ".py",
      "mimetype": "text/x-python",
      "name": "python",
      "nbconvert_exporter": "python",
      "pygments_lexer": "ipython3",
      "version": "3.8.7"
    },
    "accelerator": "GPU"
  },
  "cells": [
    {
      "cell_type": "markdown",
      "metadata": {
        "id": "SArgW_Vq-uTh"
      },
      "source": [
        "# Assignment 1\n",
        "\n",
        "The goal of this assignment is to start working with PyTorch.\n"
      ]
    },
    {
      "cell_type": "markdown",
      "metadata": {
        "id": "IlFM4hig-uTj"
      },
      "source": [
        "## Preparation Steps"
      ]
    },
    {
      "cell_type": "code",
      "metadata": {
        "id": "E3alYkjM-uTk"
      },
      "source": [
        "# Import all necessary python packages\n",
        "import numpy as np\n",
        "import torch\n",
        "\n"
      ],
      "execution_count": 9,
      "outputs": []
    },
    {
      "cell_type": "code",
      "metadata": {
        "colab": {
          "base_uri": "https://localhost:8080/"
        },
        "id": "KYONDwVbfq3D",
        "outputId": "e0b175c7-8f63-48d8-eb09-c71daa70e714"
      },
      "source": [
        "%config Completer.use_jedi = False #(fix auto complete)"
      ],
      "execution_count": 10,
      "outputs": [
        {
          "output_type": "stream",
          "text": [
            "/usr/local/lib/python3.6/dist-packages/ipykernel_launcher.py:1: UserWarning: Config option `use_jedi` not recognized by `IPCompleter`.\n",
            "  \"\"\"Entry point for launching an IPython kernel.\n"
          ],
          "name": "stderr"
        }
      ]
    },
    {
      "cell_type": "markdown",
      "metadata": {
        "id": "GfrfDK0P-uT5"
      },
      "source": [
        "## <font color = 'blue'> Question 1. Basic Operations with Tensors </font>\n",
        "\n",
        "Your taks for this question is to follow the NumPy  [**tutorial**](https://jalammar.github.io/visual-numpy/?fbclid=IwAR0tSntx5mj1aHteokRKrT4G6z77M3z0Quj40AQZ9mvKlhs2RTN3xXrc6Eo) we covered in the lecture, and 'mirror' each of the operations presented in the tutorial with tensors in PyTorch. \n",
        "\n",
        "You may find useful to consult this PyTorch introductory [tutorial](https://jhui.github.io/2018/02/09/PyTorch-Basic-operations/), and as always the full PyTorch [documentation](https://pytorch.org/docs/stable/torch.html) is the ultimate resource.\n",
        "\n",
        "*(Please insert cells below for your answers )*"
      ]
    },
    {
      "cell_type": "code",
      "metadata": {
        "id": "4po5m-tq-uT6",
        "colab": {
          "base_uri": "https://localhost:8080/"
        },
        "outputId": "90b23bd7-763b-47ed-c363-e0b01e2fdd44"
      },
      "source": [
        "data = np.array([1,2,3])\n",
        "print(data.max())\n",
        "\n",
        "datat = torch.tensor([1,2,3])\n",
        "print(datat.max())"
      ],
      "execution_count": 11,
      "outputs": [
        {
          "output_type": "stream",
          "text": [
            "3\n",
            "tensor(3)\n"
          ],
          "name": "stdout"
        }
      ]
    },
    {
      "cell_type": "code",
      "metadata": {
        "colab": {
          "base_uri": "https://localhost:8080/"
        },
        "id": "TGOi1Zqbfq3E",
        "outputId": "8424e912-9ff3-4e41-952f-f155805a17ee"
      },
      "source": [
        "print(np.ones(3))\n",
        "print(np.zeros(3))\n",
        "print(np.random.random(3))\n",
        "\n",
        "print(torch.ones(3))\n",
        "print(torch.zeros(3))\n",
        "torch.rand(3)"
      ],
      "execution_count": 12,
      "outputs": [
        {
          "output_type": "stream",
          "text": [
            "[1. 1. 1.]\n",
            "[0. 0. 0.]\n",
            "[0.24186852 0.04924586 0.34970568]\n",
            "tensor([1., 1., 1.])\n",
            "tensor([0., 0., 0.])\n"
          ],
          "name": "stdout"
        },
        {
          "output_type": "execute_result",
          "data": {
            "text/plain": [
              "tensor([0.2079, 0.0194, 0.4416])"
            ]
          },
          "metadata": {
            "tags": []
          },
          "execution_count": 12
        }
      ]
    },
    {
      "cell_type": "code",
      "metadata": {
        "colab": {
          "base_uri": "https://localhost:8080/"
        },
        "id": "AG5v2tgAfq3F",
        "outputId": "cbe7f4f2-a3dc-46ff-90d1-7959949d8445"
      },
      "source": [
        "data = np.array([1,2])\n",
        "ones = np.ones(2)\n",
        "print(data, ones)\n",
        "data + ones"
      ],
      "execution_count": 13,
      "outputs": [
        {
          "output_type": "stream",
          "text": [
            "[1 2] [1. 1.]\n"
          ],
          "name": "stdout"
        },
        {
          "output_type": "execute_result",
          "data": {
            "text/plain": [
              "array([2., 3.])"
            ]
          },
          "metadata": {
            "tags": []
          },
          "execution_count": 13
        }
      ]
    },
    {
      "cell_type": "code",
      "metadata": {
        "colab": {
          "base_uri": "https://localhost:8080/"
        },
        "id": "8BJ0E2BLfq3F",
        "outputId": "a069a820-1523-40a8-9619-22e8d936ae52"
      },
      "source": [
        "data = torch.tensor([1,2])\n",
        "ones = torch.ones(2)\n",
        "print(data, ones)\n",
        "data + ones"
      ],
      "execution_count": 14,
      "outputs": [
        {
          "output_type": "stream",
          "text": [
            "tensor([1, 2]) tensor([1., 1.])\n"
          ],
          "name": "stdout"
        },
        {
          "output_type": "execute_result",
          "data": {
            "text/plain": [
              "tensor([2., 3.])"
            ]
          },
          "metadata": {
            "tags": []
          },
          "execution_count": 14
        }
      ]
    },
    {
      "cell_type": "code",
      "metadata": {
        "colab": {
          "base_uri": "https://localhost:8080/"
        },
        "id": "LvdACxfVfq3F",
        "outputId": "d76c292a-9c51-495a-8f7e-50844b4c8ee7"
      },
      "source": [
        "# indexing\n",
        "\n",
        "data = torch.tensor([1,2,3,4,5])\n",
        "\n",
        "print(data)\n",
        "print(data[0])\n",
        "print(data[1])\n",
        "print(data[1:2])\n",
        "print(data[1:3])\n",
        "print(data[1:])"
      ],
      "execution_count": 15,
      "outputs": [
        {
          "output_type": "stream",
          "text": [
            "tensor([1, 2, 3, 4, 5])\n",
            "tensor(1)\n",
            "tensor(2)\n",
            "tensor([2])\n",
            "tensor([2, 3])\n",
            "tensor([2, 3, 4, 5])\n"
          ],
          "name": "stdout"
        }
      ]
    },
    {
      "cell_type": "code",
      "metadata": {
        "colab": {
          "base_uri": "https://localhost:8080/"
        },
        "id": "18YbF5uzfq3G",
        "outputId": "72fc3ed5-907a-4cbc-9eaa-890db80aed7c"
      },
      "source": [
        "print(data.max(), data.min(), data.sum())"
      ],
      "execution_count": 16,
      "outputs": [
        {
          "output_type": "stream",
          "text": [
            "tensor(5) tensor(1) tensor(15)\n"
          ],
          "name": "stdout"
        }
      ]
    },
    {
      "cell_type": "code",
      "metadata": {
        "colab": {
          "base_uri": "https://localhost:8080/"
        },
        "id": "csDnxd6rfq3G",
        "outputId": "60ca4a98-03ac-40d8-fdc9-866a7f6fb9a5"
      },
      "source": [
        "print(torch.Tensor.float(data).mean())\n",
        "print(torch.Tensor.float(data).std())\n",
        "print(data.prod())\n",
        "print(1*2*3*4*5)"
      ],
      "execution_count": 17,
      "outputs": [
        {
          "output_type": "stream",
          "text": [
            "tensor(3.)\n",
            "tensor(1.5811)\n",
            "tensor(120)\n",
            "120\n"
          ],
          "name": "stdout"
        }
      ]
    },
    {
      "cell_type": "code",
      "metadata": {
        "colab": {
          "base_uri": "https://localhost:8080/"
        },
        "id": "sErIbU3ifq3G",
        "outputId": "21077ad6-efbc-4e4b-e355-8f4f028b1b4e"
      },
      "source": [
        "print(torch.tensor([[1,2],[ 3,4]]))\n",
        "print(torch.ones(3,2))\n",
        "print(torch.zeros(3,2))\n",
        "print(torch.rand(3,2))\n"
      ],
      "execution_count": 18,
      "outputs": [
        {
          "output_type": "stream",
          "text": [
            "tensor([[1, 2],\n",
            "        [3, 4]])\n",
            "tensor([[1., 1.],\n",
            "        [1., 1.],\n",
            "        [1., 1.]])\n",
            "tensor([[0., 0.],\n",
            "        [0., 0.],\n",
            "        [0., 0.]])\n",
            "tensor([[0.4088, 0.6722],\n",
            "        [0.5355, 0.9142],\n",
            "        [0.9587, 0.6300]])\n"
          ],
          "name": "stdout"
        }
      ]
    },
    {
      "cell_type": "code",
      "metadata": {
        "colab": {
          "base_uri": "https://localhost:8080/"
        },
        "id": "TPC8saAsfq3G",
        "outputId": "d0aa74f8-3249-4499-e937-85c4de8a2bbd"
      },
      "source": [
        "data = torch.tensor([[1,2], [3,4]])\n",
        "print(data)\n",
        "ones = torch.ones(2,2)\n",
        "print(ones)\n",
        "\n",
        "print(data + ones)"
      ],
      "execution_count": 19,
      "outputs": [
        {
          "output_type": "stream",
          "text": [
            "tensor([[1, 2],\n",
            "        [3, 4]])\n",
            "tensor([[1., 1.],\n",
            "        [1., 1.]])\n",
            "tensor([[2., 3.],\n",
            "        [4., 5.]])\n"
          ],
          "name": "stdout"
        }
      ]
    },
    {
      "cell_type": "code",
      "metadata": {
        "colab": {
          "base_uri": "https://localhost:8080/"
        },
        "id": "Tpk5VUuifq3H",
        "outputId": "213c0426-f1ef-4566-a1b9-9f12e8a591b1"
      },
      "source": [
        "data = torch.tensor([[1,2], [3,4], [5,6]])\n",
        "print(data)\n",
        "ones_row = torch.ones(1,2)\n",
        "print(ones_row)\n",
        "\n",
        "print(data + ones_row)"
      ],
      "execution_count": 20,
      "outputs": [
        {
          "output_type": "stream",
          "text": [
            "tensor([[1, 2],\n",
            "        [3, 4],\n",
            "        [5, 6]])\n",
            "tensor([[1., 1.]])\n",
            "tensor([[2., 3.],\n",
            "        [4., 5.],\n",
            "        [6., 7.]])\n"
          ],
          "name": "stdout"
        }
      ]
    },
    {
      "cell_type": "code",
      "metadata": {
        "colab": {
          "base_uri": "https://localhost:8080/"
        },
        "id": "KQHCLrkPfq3H",
        "outputId": "91668e9b-4b26-482a-b9f1-a119ff3215c6"
      },
      "source": [
        "data = torch.tensor([[1,2,3]])\n",
        "pot = torch.tensor([[1,10], [100, 1000], [10000, 100000]])\n",
        "print(data)\n",
        "print(pot)\n",
        "print(data.shape)\n",
        "print(pot.shape)\n",
        "print(torch.mm(data, pot))  # torch.dot only does 1D tensors..."
      ],
      "execution_count": 21,
      "outputs": [
        {
          "output_type": "stream",
          "text": [
            "tensor([[1, 2, 3]])\n",
            "tensor([[     1,     10],\n",
            "        [   100,   1000],\n",
            "        [ 10000, 100000]])\n",
            "torch.Size([1, 3])\n",
            "torch.Size([3, 2])\n",
            "tensor([[ 30201, 302010]])\n"
          ],
          "name": "stdout"
        }
      ]
    },
    {
      "cell_type": "code",
      "metadata": {
        "colab": {
          "base_uri": "https://localhost:8080/"
        },
        "id": "KxJbwMtxfq3H",
        "outputId": "c48b4a4b-6fae-4867-c187-92c6d884d0dc"
      },
      "source": [
        "data = torch.tensor([[1,2], [5,3], [4,6]])\n",
        "\n",
        "print(data.min())\n",
        "print(data.max())\n",
        "print(data.max(axis=0))\n",
        "print(data.max(axis=1))"
      ],
      "execution_count": 22,
      "outputs": [
        {
          "output_type": "stream",
          "text": [
            "tensor(1)\n",
            "tensor(6)\n",
            "torch.return_types.max(\n",
            "values=tensor([5, 6]),\n",
            "indices=tensor([1, 2]))\n",
            "torch.return_types.max(\n",
            "values=tensor([2, 5, 6]),\n",
            "indices=tensor([1, 0, 1]))\n"
          ],
          "name": "stdout"
        }
      ]
    },
    {
      "cell_type": "code",
      "metadata": {
        "colab": {
          "base_uri": "https://localhost:8080/"
        },
        "id": "q_0WtHL-fq3H",
        "outputId": "49743131-9eed-4f7b-f0fc-180c531fc807"
      },
      "source": [
        "data = torch.tensor([[1,2], [5,3], [4,6]])\n",
        "print(data)\n",
        "print(data.T)"
      ],
      "execution_count": 23,
      "outputs": [
        {
          "output_type": "stream",
          "text": [
            "tensor([[1, 2],\n",
            "        [5, 3],\n",
            "        [4, 6]])\n",
            "tensor([[1, 5, 4],\n",
            "        [2, 3, 6]])\n"
          ],
          "name": "stdout"
        }
      ]
    },
    {
      "cell_type": "code",
      "metadata": {
        "colab": {
          "base_uri": "https://localhost:8080/"
        },
        "id": "gK8neq91fq3I",
        "outputId": "a3c6f83b-d61d-42dd-9964-1c60595a57a3"
      },
      "source": [
        "data = torch.tensor([1,2,3,4,5,6])\n",
        "print(data)\n",
        "print(data.reshape(2,3))\n",
        "print(data.reshape(3,2))"
      ],
      "execution_count": 24,
      "outputs": [
        {
          "output_type": "stream",
          "text": [
            "tensor([1, 2, 3, 4, 5, 6])\n",
            "tensor([[1, 2, 3],\n",
            "        [4, 5, 6]])\n",
            "tensor([[1, 2],\n",
            "        [3, 4],\n",
            "        [5, 6]])\n"
          ],
          "name": "stdout"
        }
      ]
    },
    {
      "cell_type": "code",
      "metadata": {
        "colab": {
          "base_uri": "https://localhost:8080/"
        },
        "id": "8MIqwrspfq3I",
        "outputId": "075121b2-9abb-4b57-855a-96610d862b58"
      },
      "source": [
        "data = torch.tensor([[[1,2], [3,4]], [[5,6], [7,8]]])\n",
        "print(data.shape)\n",
        "print(data)"
      ],
      "execution_count": 25,
      "outputs": [
        {
          "output_type": "stream",
          "text": [
            "torch.Size([2, 2, 2])\n",
            "tensor([[[1, 2],\n",
            "         [3, 4]],\n",
            "\n",
            "        [[5, 6],\n",
            "         [7, 8]]])\n"
          ],
          "name": "stdout"
        }
      ]
    },
    {
      "cell_type": "code",
      "metadata": {
        "colab": {
          "base_uri": "https://localhost:8080/"
        },
        "id": "osimJElvfq3I",
        "outputId": "e95fa936-cccc-4dc5-8eb1-1b2a5ec645f4"
      },
      "source": [
        "predictions = torch.ones(3,1)\n",
        "labels = torch.tensor([1,2,3]).reshape(3,1)\n",
        "print(predictions)\n",
        "print(labels)"
      ],
      "execution_count": 26,
      "outputs": [
        {
          "output_type": "stream",
          "text": [
            "tensor([[1.],\n",
            "        [1.],\n",
            "        [1.]])\n",
            "tensor([[1],\n",
            "        [2],\n",
            "        [3]])\n"
          ],
          "name": "stdout"
        }
      ]
    },
    {
      "cell_type": "code",
      "metadata": {
        "colab": {
          "base_uri": "https://localhost:8080/"
        },
        "id": "mDirTwyOfq3I",
        "outputId": "72084ec3-7364-4b31-8de2-edc5b36429b2"
      },
      "source": [
        "error = (1/3) * torch.sum(torch.square(predictions - labels))\n",
        "print(error)\n",
        "print(5/3)"
      ],
      "execution_count": 27,
      "outputs": [
        {
          "output_type": "stream",
          "text": [
            "tensor(1.6667)\n",
            "1.6666666666666667\n"
          ],
          "name": "stdout"
        }
      ]
    },
    {
      "cell_type": "code",
      "metadata": {
        "id": "IllLoXxGAIIo"
      },
      "source": [
        "# For grader use only\n",
        "\n",
        "G = [0]*2\n",
        "\n",
        "\n",
        "# insert grade here  (maximum 10, subtract points if items are missing)\n",
        "# G[1] = \n",
        "\n",
        "# please justify point subtractions"
      ],
      "execution_count": 28,
      "outputs": []
    },
    {
      "cell_type": "markdown",
      "metadata": {
        "id": "YMEcdAp3-uT-"
      },
      "source": [
        "##  <font color = 'blue'> Question 2. Quadratic Regression\n",
        "\n",
        "In the lecture we discussed a simple regression problem, where points are coming from the line $y = 2x + 1$, plus some noise.  For this question you are asked to: \n",
        "\n",
        "(i) Generate data points coming from a quadratic function: $ y = -x^2 + 3x +10 $, plus some noise. <br>\n",
        "(ii) Modify the PyTorch model from the class in order for it to learn a quadratic function of the form $y = a x^2 + bx +c$. <br>\n",
        "(iii) Train your model and report what values it computes. (Sanity check: These sould be close to -1, 3, 10)\n",
        "\n",
        "\n"
      ]
    },
    {
      "cell_type": "markdown",
      "metadata": {
        "id": "a0ek4Ry_-uT_"
      },
      "source": [
        ""
      ]
    },
    {
      "cell_type": "code",
      "metadata": {
        "id": "aaqhiU8Lfq3J"
      },
      "source": [
        "# Data Generation\n",
        "np.random.seed(42)\n",
        "x = np.random.rand(100, 1)\n",
        "\n",
        "y = -x**2 + 3 * x + 10 + .1 * np.random.randn(100, 1)"
      ],
      "execution_count": 29,
      "outputs": []
    },
    {
      "cell_type": "code",
      "metadata": {
        "colab": {
          "base_uri": "https://localhost:8080/"
        },
        "id": "GDnil6dsfq3J",
        "outputId": "13e3e037-c791-423d-ac6f-53519c814a4d"
      },
      "source": [
        "# Shuffles the indices\n",
        "idx = np.arange(100)\n",
        "np.random.shuffle(idx)\n",
        "\n",
        "# Uses first 80 random indices for train\n",
        "train_idx = idx[:80]\n",
        "# Uses the remaining indices for validation\n",
        "val_idx = idx[80:]\n",
        "\n",
        "# Generates train and validation sets\n",
        "x_train, y_train = x[train_idx], y[train_idx]\n",
        "x_val, y_val = x[val_idx], y[val_idx]\n",
        "\n",
        "# Put the data in CPU (or GPU if available)\n",
        "\n",
        "device = 'cuda' if torch.cuda.is_available() else 'cpu'\n",
        "print(f'using device {device}')\n",
        "\n",
        "# Our data was in Numpy arrays, but we need to transform them into PyTorch's Tensors\n",
        "# and then we send them to the chosen device\n",
        "x_train_tensor = torch.from_numpy(x_train).float().to(device)\n",
        "y_train_tensor = torch.from_numpy(y_train).float().to(device)\n",
        "\n",
        "# Here we can see the difference - notice that .type() is more useful\n",
        "# since it also tells us WHERE the tensor is (device)\n",
        "print(type(x_train), type(x_train_tensor), x_train_tensor.type())"
      ],
      "execution_count": 30,
      "outputs": [
        {
          "output_type": "stream",
          "text": [
            "using device cuda\n",
            "<class 'numpy.ndarray'> <class 'torch.Tensor'> torch.cuda.FloatTensor\n"
          ],
          "name": "stdout"
        }
      ]
    },
    {
      "cell_type": "code",
      "metadata": {
        "colab": {
          "base_uri": "https://localhost:8080/"
        },
        "id": "egZbwt4Afq3J",
        "outputId": "34f49878-caa3-4ace-a950-f021017fb98b"
      },
      "source": [
        "# Create the THREE parameters. We require gradients and put them on the device at creation time.\n",
        "\n",
        "torch.manual_seed(42)\n",
        "a = torch.randn(1, requires_grad=True, dtype=torch.float, device=device)\n",
        "b = torch.randn(1, requires_grad=True, dtype=torch.float, device=device)\n",
        "c = torch.randn(1, requires_grad=True, dtype=torch.float, device=device)\n",
        "print(a, b, c)"
      ],
      "execution_count": 31,
      "outputs": [
        {
          "output_type": "stream",
          "text": [
            "tensor([0.1940], device='cuda:0', requires_grad=True) tensor([0.1391], device='cuda:0', requires_grad=True) tensor([-0.5187], device='cuda:0', requires_grad=True)\n"
          ],
          "name": "stdout"
        }
      ]
    },
    {
      "cell_type": "markdown",
      "metadata": {
        "id": "Nv7K59JHfq3K"
      },
      "source": [
        "(ii) Modify the PyTorch model from the class in order for it to learn a quadratic function of the form $y = a x^2 + bx +c$. <br>\n",
        "(iii) Train your model and report what values it computes. (Sanity check: These sould be close to -1, 3, 10)"
      ]
    },
    {
      "cell_type": "code",
      "metadata": {
        "colab": {
          "base_uri": "https://localhost:8080/"
        },
        "id": "ieXNp-KTfq3K",
        "outputId": "d994e33d-2309-4251-a9ef-d8cd373d2fa9"
      },
      "source": [
        "lr = 1e-1\n",
        "n_epochs = 10000 # CHANGING to 10K makes all the difference!!!\n",
        "\n",
        "torch.manual_seed(42)\n",
        "a = torch.randn(1, requires_grad=True, dtype=torch.float, device=device)\n",
        "b = torch.randn(1, requires_grad=True, dtype=torch.float, device=device)\n",
        "c = torch.randn(1, requires_grad=True, dtype=torch.float, device=device)\n",
        "\n",
        "for epoch in range(n_epochs):\n",
        "    # yhat = a + b * x_train_tensor   # current predictions  b * x + a\n",
        "    yhat = c + b * x_train_tensor + a*(x_train_tensor**2) \n",
        "    error = y_train_tensor - yhat   # error\n",
        "    loss = (error ** 2).mean()      # compute loss\n",
        "\n",
        "    \n",
        "    # We just tell PyTorch to work its way BACKWARDS from the specified loss!\n",
        "    loss.backward()\n",
        "    # Let's check the computed gradients...\n",
        "    #print(a.grad)\n",
        "    #print(b.grad)\n",
        "    #print(c.grad)\n",
        "    \n",
        "    # We need to use NO_GRAD to keep the update out of the gradient computation\n",
        "    # Why is that? It boils down to the DYNAMIC GRAPH that PyTorch uses...\n",
        "    with torch.no_grad():\n",
        "        a -= lr * a.grad\n",
        "        b -= lr * b.grad\n",
        "        c -= lr * c.grad\n",
        "    \n",
        "    # PyTorch is \"clingy\" to its computed gradients, we need to tell it to let it go...\n",
        "    a.grad.zero_()\n",
        "    b.grad.zero_()\n",
        "    c.grad.zero_()\n",
        "    \n",
        "print(f'a: {a}')\n",
        "print(f'b: {b}')\n",
        "print(f'c: {c}')\n"
      ],
      "execution_count": 32,
      "outputs": [
        {
          "output_type": "stream",
          "text": [
            "a: tensor([-0.8058], device='cuda:0', requires_grad=True)\n",
            "b: tensor([2.7796], device='cuda:0', requires_grad=True)\n",
            "c: tensor([10.0514], device='cuda:0', requires_grad=True)\n"
          ],
          "name": "stdout"
        }
      ]
    },
    {
      "cell_type": "code",
      "metadata": {
        "id": "1HKx1dF1fq3K"
      },
      "source": [
        "import torch.optim as optim\n",
        "import torch.nn as nn\n",
        "import math\n",
        "class ManualQuadraticRegression(nn.Module):\n",
        "\n",
        "    def __init__(self):\n",
        "        super().__init__()\n",
        "        # To make \"a\" and \"b\" real parameters of the model, we need to wrap them with nn.Parameter\n",
        "        self.a = nn.Parameter(torch.randn(1, requires_grad=True, dtype=torch.float))\n",
        "        self.b = nn.Parameter(torch.randn(1, requires_grad=True, dtype=torch.float))\n",
        "        self.c = nn.Parameter(torch.randn(1, requires_grad=True, dtype=torch.float))\n",
        "        \n",
        "    def forward(self, x):\n",
        "        # Computes the outputs / predictions\n",
        "        # ax^2 + bx + c\n",
        "        return self.a * pow(x,2) + self.b * x + self.c"
      ],
      "execution_count": 33,
      "outputs": []
    },
    {
      "cell_type": "code",
      "metadata": {
        "colab": {
          "base_uri": "https://localhost:8080/"
        },
        "id": "AFh9F0YDfq3L",
        "outputId": "e156ff6a-48a4-4d3f-87fc-a8bf5dc46bd6"
      },
      "source": [
        "torch.manual_seed(42)\n",
        "\n",
        "# Now we can create a model and send it at once to the device\n",
        "model = ManualQuadraticRegression().to(device)\n",
        "\n",
        "# We can also inspect its parameters using its state_dict\n",
        "print(model.state_dict())\n",
        "\n",
        "lr = 1e-1\n",
        "\n",
        "# changing epochs from 1k to 10K made all the difference!!!!\n",
        "n_epochs = 10000\n",
        "\n",
        "loss_fn = nn.MSELoss(reduction='mean')\n",
        "optimizer = optim.SGD(model.parameters(), lr=lr)\n",
        "\n",
        "for epoch in range(n_epochs):\n",
        "    \n",
        "    # This sets the model in 'training' mode. We have to use this. \n",
        "    model.train()\n",
        "\n",
        "    # No more manual prediction!\n",
        "    # yhat = a + b * x_tensor\n",
        "    yhat = model(x_train_tensor)\n",
        "    \n",
        "    loss = loss_fn(y_train_tensor, yhat)\n",
        "    loss.backward()    \n",
        "    optimizer.step()\n",
        "    optimizer.zero_grad()\n",
        "    \n",
        "print(model.state_dict())"
      ],
      "execution_count": 34,
      "outputs": [
        {
          "output_type": "stream",
          "text": [
            "OrderedDict([('a', tensor([0.3367], device='cuda:0')), ('b', tensor([0.1288], device='cuda:0')), ('c', tensor([0.2345], device='cuda:0'))])\n",
            "OrderedDict([('a', tensor([-0.8051], device='cuda:0')), ('b', tensor([2.7789], device='cuda:0')), ('c', tensor([10.0516], device='cuda:0'))])\n"
          ],
          "name": "stdout"
        }
      ]
    },
    {
      "cell_type": "code",
      "metadata": {
        "colab": {
          "base_uri": "https://localhost:8080/"
        },
        "id": "AcAdMtRbfq3L",
        "outputId": "081caf71-238c-4884-bddd-3941b594f9de"
      },
      "source": [
        "from sklearn.preprocessing import PolynomialFeatures\n",
        "from sklearn.pipeline import make_pipeline\n",
        "from sklearn.linear_model import LinearRegression\n",
        "\n",
        "\n",
        "poly_reg=PolynomialFeatures(degree=2)\n",
        "X_poly=poly_reg.fit_transform(x_train)\n",
        "poly_reg.fit(X_poly,y_train)\n",
        "lin_reg2=LinearRegression()\n",
        "lin_reg2.fit(X_poly,y_train)\n",
        "print(lin_reg2.intercept_, lin_reg2.coef_[0])"
      ],
      "execution_count": 35,
      "outputs": [
        {
          "output_type": "stream",
          "text": [
            "[10.05058536] [ 0.          2.78508306 -0.81125085]\n"
          ],
          "name": "stdout"
        }
      ]
    },
    {
      "cell_type": "code",
      "metadata": {
        "colab": {
          "base_uri": "https://localhost:8080/"
        },
        "id": "vB3_XzCZfq3M",
        "outputId": "4afb35c4-bc3d-49e7-f3bc-c4cfec1a8c9e"
      },
      "source": [
        "from sklearn.preprocessing import PolynomialFeatures\n",
        "from sklearn.pipeline import make_pipeline\n",
        "model = make_pipeline(PolynomialFeatures(2), LinearRegression())\n",
        "\n",
        "r = model.fit(x_train, y_train)\n",
        "\n",
        "print(model.named_steps['linearregression'].intercept_)\n",
        "print(model.named_steps['linearregression'].coef_)"
      ],
      "execution_count": 36,
      "outputs": [
        {
          "output_type": "stream",
          "text": [
            "[10.05058536]\n",
            "[[ 0.          2.78508306 -0.81125085]]\n"
          ],
          "name": "stdout"
        }
      ]
    },
    {
      "cell_type": "code",
      "metadata": {
        "id": "sBjMZF1wGaUp"
      },
      "source": [
        "# for grader use only\n",
        "\n",
        "# insert grade here  \n",
        "# part (i): 5, part(ii) 10, part (iii) 10\n",
        "\n",
        "# G[2] = \n",
        "#\n",
        "# please justify point subtractions"
      ],
      "execution_count": 37,
      "outputs": []
    }
  ]
}